{
  "nbformat": 4,
  "nbformat_minor": 0,
  "metadata": {
    "colab": {
      "provenance": []
    },
    "kernelspec": {
      "name": "python3",
      "display_name": "Python 3"
    },
    "language_info": {
      "name": "python"
    }
  },
  "cells": [
    {
      "cell_type": "code",
      "execution_count": 1,
      "metadata": {
        "colab": {
          "base_uri": "https://localhost:8080/"
        },
        "id": "D2uNQHy_d3N1",
        "outputId": "b5367e5a-743f-4822-d88a-e0d60d5734cb"
      },
      "outputs": [
        {
          "output_type": "stream",
          "name": "stderr",
          "text": [
            "[nltk_data] Downloading package stopwords to /root/nltk_data...\n",
            "[nltk_data]   Unzipping corpora/stopwords.zip.\n",
            "[nltk_data] Downloading package wordnet to /root/nltk_data...\n"
          ]
        },
        {
          "output_type": "stream",
          "name": "stdout",
          "text": [
            "Accuracy: 0.987750556792873\n",
            "Report:\n",
            "               precision    recall  f1-score   support\n",
            "\n",
            "           0       0.99      0.98      0.99      4669\n",
            "           1       0.98      0.99      0.99      4311\n",
            "\n",
            "    accuracy                           0.99      8980\n",
            "   macro avg       0.99      0.99      0.99      8980\n",
            "weighted avg       0.99      0.99      0.99      8980\n",
            "\n"
          ]
        },
        {
          "output_type": "execute_result",
          "data": {
            "text/plain": [
              "['tfidf_vectorizer.pkl']"
            ]
          },
          "metadata": {},
          "execution_count": 1
        }
      ],
      "source": [
        "# STEP 1: Install NLTK tools\n",
        "import nltk\n",
        "nltk.download('stopwords')\n",
        "nltk.download('wordnet')\n",
        "\n",
        "# STEP 2: Upload files manually before running this code\n",
        "import pandas as pd\n",
        "import re\n",
        "from nltk.corpus import stopwords\n",
        "from nltk.stem import WordNetLemmatizer\n",
        "from sklearn.feature_extraction.text import TfidfVectorizer\n",
        "from sklearn.linear_model import LogisticRegression\n",
        "from sklearn.model_selection import train_test_split\n",
        "from sklearn.metrics import classification_report, accuracy_score\n",
        "import joblib\n",
        "\n",
        "# STEP 3: Read your data\n",
        "real = pd.read_csv(\"True.csv\")\n",
        "fake = pd.read_csv(\"Fake.csv\")\n",
        "real[\"label\"] = 1\n",
        "fake[\"label\"] = 0\n",
        "\n",
        "# STEP 4: Combine and shuffle\n",
        "df = pd.concat([real, fake], ignore_index=True).sample(frac=1, random_state=42)\n",
        "\n",
        "# STEP 5: Clean the text\n",
        "stop_words = set(stopwords.words('english'))\n",
        "lemmatizer = WordNetLemmatizer()\n",
        "\n",
        "def clean(text):\n",
        "    text = re.sub(r'[^a-zA-Z]', ' ', str(text))\n",
        "    words = text.lower().split()\n",
        "    return ' '.join(lemmatizer.lemmatize(w) for w in words if w not in stop_words)\n",
        "\n",
        "df['content'] = (df['title'].fillna('') + ' ' + df['text'].fillna('')).apply(clean)\n",
        "\n",
        "# STEP 6: Vectorize (give numbers to text)\n",
        "vectorizer = TfidfVectorizer(max_features=5000)\n",
        "X = vectorizer.fit_transform(df['content'])\n",
        "y = df['label']\n",
        "\n",
        "# STEP 7: Train the model\n",
        "X_train, X_test, y_train, y_test = train_test_split(X, y, test_size=0.2, random_state=42)\n",
        "model = LogisticRegression()\n",
        "model.fit(X_train, y_train)\n",
        "\n",
        "# STEP 8: Test it!\n",
        "y_pred = model.predict(X_test)\n",
        "print(\"Accuracy:\", accuracy_score(y_test, y_pred))\n",
        "print(\"Report:\\n\", classification_report(y_test, y_pred))\n",
        "\n",
        "# STEP 9: Save model\n",
        "joblib.dump(model, \"fake_news_model.pkl\")\n",
        "joblib.dump(vectorizer, \"tfidf_vectorizer.pkl\")\n"
      ]
    }
  ]
}